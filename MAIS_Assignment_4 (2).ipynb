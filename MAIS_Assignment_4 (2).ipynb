{
  "nbformat": 4,
  "nbformat_minor": 0,
  "metadata": {
    "colab": {
      "name": "MAIS Assignment 4.ipynb",
      "provenance": []
    },
    "kernelspec": {
      "name": "python3",
      "display_name": "Python 3"
    },
    "language_info": {
      "name": "python"
    }
  },
  "cells": [
    {
      "cell_type": "code",
      "metadata": {
        "colab": {
          "base_uri": "https://localhost:8080/"
        },
        "id": "gyfUOva__c4v",
        "outputId": "008db2cb-7b67-4c64-839c-d56437ec38f4"
      },
      "source": [
        "from google.colab import drive\n",
        "drive.mount('/content/drive')"
      ],
      "execution_count": null,
      "outputs": [
        {
          "output_type": "stream",
          "name": "stdout",
          "text": [
            "Mounted at /content/drive\n"
          ]
        }
      ]
    },
    {
      "cell_type": "code",
      "metadata": {
        "colab": {
          "base_uri": "https://localhost:8080/"
        },
        "id": "2KOpkmJ5SRJ5",
        "outputId": "9c71a0b4-e09b-4acf-be36-65d3d824b81d"
      },
      "source": [
        "# install kaggle\n",
        "! pip install kaggle\n",
        "! mkdir ~/.kaggle\n",
        "! echo '{\"username\":\"elienader\",\"key\":\"ae8735196ab8bee32da2e17efcbdf48d\"}' > ~/.kaggle/kaggle.json\n",
        "! chmod 600 ~/.kaggle/kaggle.json"
      ],
      "execution_count": null,
      "outputs": [
        {
          "output_type": "stream",
          "name": "stdout",
          "text": [
            "Requirement already satisfied: kaggle in /usr/local/lib/python3.7/dist-packages (1.5.12)\n",
            "Requirement already satisfied: tqdm in /usr/local/lib/python3.7/dist-packages (from kaggle) (4.62.3)\n",
            "Requirement already satisfied: requests in /usr/local/lib/python3.7/dist-packages (from kaggle) (2.23.0)\n",
            "Requirement already satisfied: certifi in /usr/local/lib/python3.7/dist-packages (from kaggle) (2021.10.8)\n",
            "Requirement already satisfied: urllib3 in /usr/local/lib/python3.7/dist-packages (from kaggle) (1.24.3)\n",
            "Requirement already satisfied: six>=1.10 in /usr/local/lib/python3.7/dist-packages (from kaggle) (1.15.0)\n",
            "Requirement already satisfied: python-dateutil in /usr/local/lib/python3.7/dist-packages (from kaggle) (2.8.2)\n",
            "Requirement already satisfied: python-slugify in /usr/local/lib/python3.7/dist-packages (from kaggle) (5.0.2)\n",
            "Requirement already satisfied: text-unidecode>=1.3 in /usr/local/lib/python3.7/dist-packages (from python-slugify->kaggle) (1.3)\n",
            "Requirement already satisfied: idna<3,>=2.5 in /usr/local/lib/python3.7/dist-packages (from requests->kaggle) (2.10)\n",
            "Requirement already satisfied: chardet<4,>=3.0.2 in /usr/local/lib/python3.7/dist-packages (from requests->kaggle) (3.0.4)\n",
            "mkdir: cannot create directory ‘/root/.kaggle’: File exists\n"
          ]
        }
      ]
    },
    {
      "cell_type": "code",
      "metadata": {
        "colab": {
          "base_uri": "https://localhost:8080/"
        },
        "id": "EAoPRvJDSxM1",
        "outputId": "c3713dc9-f111-4923-f7de-8b7e1e271827"
      },
      "source": [
        "!kaggle competitions download -c mais202fall2021\n",
        "!unzip test_images.npy.zip && rm test_images.npy.zip\n",
        "!unzip train_images.npy.zip && rm train_images.npy.zip"
      ],
      "execution_count": null,
      "outputs": [
        {
          "output_type": "stream",
          "name": "stdout",
          "text": [
            "Warning: Looks like you're using an outdated API Version, please consider updating (server 1.5.12 / client 1.5.4)\n",
            "Downloading train_labels.csv to /content\n",
            "  0% 0.00/429k [00:00<?, ?B/s]\n",
            "100% 429k/429k [00:00<00:00, 61.8MB/s]\n",
            "Downloading label_int_to_str_mapping.csv to /content\n",
            "  0% 0.00/127 [00:00<?, ?B/s]\n",
            "100% 127/127 [00:00<00:00, 108kB/s]\n",
            "Downloading test_images.npy.zip to /content\n",
            " 24% 5.00M/20.7M [00:00<00:02, 5.77MB/s]\n",
            "100% 20.7M/20.7M [00:00<00:00, 22.4MB/s]\n",
            "Downloading sample_submission.csv to /content\n",
            "  0% 0.00/165k [00:00<?, ?B/s]\n",
            "100% 165k/165k [00:00<00:00, 125MB/s]\n",
            "Downloading train_images.npy.zip to /content\n",
            " 79% 41.0M/51.7M [00:01<00:00, 22.3MB/s]\n",
            "100% 51.7M/51.7M [00:01<00:00, 41.2MB/s]\n",
            "Archive:  test_images.npy.zip\n",
            "  inflating: test_images.npy         \n",
            "Archive:  train_images.npy.zip\n",
            "  inflating: train_images.npy        \n"
          ]
        }
      ]
    },
    {
      "cell_type": "code",
      "metadata": {
        "id": "gPatkN1VRF9o"
      },
      "source": [
        "import numpy as np\n",
        "import matplotlib.pyplot as plt\n",
        "import pandas as pd\n",
        "from tensorflow.python import keras\n",
        "from tensorflow.math import argmax\n",
        "from tensorflow.keras.utils import to_categorical\n",
        "from tensorflow.python.keras.models import Sequential\n",
        "from tensorflow.python.keras.layers import Dense, Flatten, Conv2D, Dropout, MaxPooling2D"
      ],
      "execution_count": null,
      "outputs": []
    },
    {
      "cell_type": "code",
      "metadata": {
        "colab": {
          "base_uri": "https://localhost:8080/"
        },
        "id": "ngaFXSvSUnEO",
        "outputId": "93998be5-0c69-48fc-e40d-255fc63d680d"
      },
      "source": [
        "train_images = np.load(\"train_images.npy\")\n",
        "train_labels = pd.read_csv(\"train_labels.csv\",usecols=[1]) # only read the 2nd column\n",
        "test_images = np.load(\"test_images.npy\")\n",
        "\n",
        "# convert the csv file for str labels to a dict for ease of use\n",
        "# this will help display image samples if needed with the help of the\n",
        "# show_image() function\n",
        "str_labels = dict()\n",
        "f = open(\"label_int_to_str_mapping.csv\")\n",
        "count = 0\n",
        "for line in f:\n",
        "    if count == 0: # skip the header of the csv\n",
        "      count += 1\n",
        "      continue\n",
        "    line = line.strip('\\n')\n",
        "    (key, val) = line.split(\",\")\n",
        "    str_labels[int(key)] = val\n",
        "print(str_labels)"
      ],
      "execution_count": null,
      "outputs": [
        {
          "output_type": "stream",
          "name": "stdout",
          "text": [
            "{0: 'T-shirt/top', 1: 'Trouser', 2: 'Pullover', 3: 'Dress', 4: 'Coat', 5: 'Sandal', 6: 'Shirt', 7: 'Sneaker', 8: 'Bag', 9: 'Ankle boot'}\n"
          ]
        }
      ]
    },
    {
      "cell_type": "code",
      "metadata": {
        "colab": {
          "base_uri": "https://localhost:8080/"
        },
        "id": "5nJN9WW6p9UF",
        "outputId": "9ea101ff-1587-4398-fec4-b760d9e45ad6"
      },
      "source": [
        "def data_preprocessing(raw):\n",
        "    num_images = raw.shape[0]\n",
        "    x_shaped_array = raw.reshape(num_images, 28, 28, 1) # needed for the model\n",
        "    return x_shaped_array\n",
        "train_images = data_preprocessing(train_images)\n",
        "test_images = data_preprocessing(test_images)\n",
        "train_labels = to_categorical(train_labels, 10)\n",
        "print(train_labels.shape)\n",
        "print(train_images.shape, test_images.shape)"
      ],
      "execution_count": null,
      "outputs": [
        {
          "output_type": "stream",
          "name": "stdout",
          "text": [
            "(50000, 10)\n",
            "(50000, 28, 28, 1) (20000, 28, 28, 1)\n"
          ]
        }
      ]
    },
    {
      "cell_type": "code",
      "metadata": {
        "colab": {
          "base_uri": "https://localhost:8080/",
          "height": 283
        },
        "id": "DlZUw7MKVZQw",
        "outputId": "41324bbc-8573-4f8d-9307-8702be5c302f"
      },
      "source": [
        "def show_image(arr):\n",
        "    two_d = (np.reshape(arr, (28, 28)) * 255).astype(np.uint8)\n",
        "    plt.imshow(two_d, interpolation='nearest')\n",
        "    plt.show()\n",
        "\n",
        "show_image(train_images[0]) # 0 is the index of the training image you want to display\n",
        "print(train_images[0].shape)"
      ],
      "execution_count": null,
      "outputs": [
        {
          "output_type": "display_data",
          "data": {
            "image/png": "[encoded data removed]",
            "text/plain": [
              "<Figure size 432x288 with 1 Axes>"
            ]
          },
          "metadata": {
            "needs_background": "light"
          }
        },
        {
          "output_type": "stream",
          "name": "stdout",
          "text": [
            "(28, 28, 1)\n"
          ]
        }
      ]
    },
    {
      "cell_type": "code",
      "metadata": {
        "id": "-FGGun1-cJg5"
      },
      "source": [
        "# Parameters\n",
        "NB_EPOCHS = 75\n",
        "BATCH_SIZE = 128\n",
        "\n",
        "# Model\n",
        "model = Sequential()\n",
        "\n",
        "model.add(Conv2D(32, kernel_size=(3, 3),\n",
        "                 activation='relu',\n",
        "                 kernel_initializer='he_normal',\n",
        "                 input_shape=(28, 28, 1)))\n",
        "model.add(MaxPooling2D((2, 2)))\n",
        "model.add(Dropout(0.25))\n",
        "model.add(Conv2D(64, \n",
        "                 kernel_size=(3, 3), \n",
        "                 activation='relu'))\n",
        "model.add(MaxPooling2D(pool_size=(2, 2)))\n",
        "model.add(Dropout(0.25))\n",
        "model.add(Conv2D(128, (3, 3), activation='relu'))\n",
        "model.add(Dropout(0.4))\n",
        "model.add(Flatten())\n",
        "model.add(Dense(128, activation='relu'))\n",
        "model.add(Dropout(0.3))\n",
        "model.add(Dense(10, activation='softmax'))\n",
        "\n",
        "model.compile(loss=keras.losses.categorical_crossentropy,\n",
        "              optimizer='adam',\n",
        "              metrics=['accuracy'])\n"
      ],
      "execution_count": null,
      "outputs": []
    },
    {
      "cell_type": "code",
      "metadata": {
        "colab": {
          "base_uri": "https://localhost:8080/"
        },
        "id": "DbnwdfYfeTLj",
        "outputId": "04d6682e-f54c-493e-fdf3-534b0b38c56c"
      },
      "source": [
        "train_model = model.fit(train_images, train_labels,\n",
        "                  batch_size=BATCH_SIZE,\n",
        "                  epochs=NB_EPOCHS,\n",
        "                  verbose=1)"
      ],
      "execution_count": null,
      "outputs": [
        {
          "output_type": "stream",
          "name": "stdout",
          "text": [
            "Epoch 1/50\n",
            "391/391 - 45s - loss: 4.4755 - accuracy: 0.1024\n",
            "Epoch 2/50\n",
            "391/391 - 44s - loss: 2.2312 - accuracy: 0.1474\n",
            "Epoch 3/50\n",
            "391/391 - 44s - loss: 1.8080 - accuracy: 0.3103\n",
            "Epoch 4/50\n",
            "391/391 - 44s - loss: 1.4375 - accuracy: 0.4523\n",
            "Epoch 5/50\n",
            "391/391 - 44s - loss: 1.2065 - accuracy: 0.5392\n",
            "Epoch 6/50\n",
            "391/391 - 44s - loss: 1.0599 - accuracy: 0.5919\n",
            "Epoch 7/50\n",
            "391/391 - 44s - loss: 0.9365 - accuracy: 0.6424\n",
            "Epoch 8/50\n",
            "391/391 - 44s - loss: 0.8527 - accuracy: 0.6744\n",
            "Epoch 9/50\n",
            "391/391 - 44s - loss: 0.7868 - accuracy: 0.7014\n",
            "Epoch 10/50\n",
            "391/391 - 44s - loss: 0.7464 - accuracy: 0.7197\n",
            "Epoch 11/50\n",
            "391/391 - 44s - loss: 0.7119 - accuracy: 0.7309\n",
            "Epoch 12/50\n",
            "391/391 - 44s - loss: 0.6923 - accuracy: 0.7388\n",
            "Epoch 13/50\n",
            "391/391 - 44s - loss: 0.6712 - accuracy: 0.7468\n",
            "Epoch 14/50\n",
            "391/391 - 43s - loss: 0.6520 - accuracy: 0.7529\n",
            "Epoch 15/50\n",
            "391/391 - 44s - loss: 0.6329 - accuracy: 0.7635\n",
            "Epoch 16/50\n",
            "391/391 - 44s - loss: 0.6181 - accuracy: 0.7702\n",
            "Epoch 17/50\n",
            "391/391 - 44s - loss: 0.6111 - accuracy: 0.7733\n",
            "Epoch 18/50\n",
            "391/391 - 44s - loss: 0.6017 - accuracy: 0.7774\n",
            "Epoch 19/50\n",
            "391/391 - 44s - loss: 0.5913 - accuracy: 0.7808\n",
            "Epoch 20/50\n",
            "391/391 - 44s - loss: 0.5832 - accuracy: 0.7822\n",
            "Epoch 21/50\n",
            "391/391 - 44s - loss: 0.5742 - accuracy: 0.7876\n",
            "Epoch 22/50\n",
            "391/391 - 43s - loss: 0.5714 - accuracy: 0.7875\n",
            "Epoch 23/50\n",
            "391/391 - 43s - loss: 0.5633 - accuracy: 0.7907\n",
            "Epoch 24/50\n",
            "391/391 - 44s - loss: 0.5638 - accuracy: 0.7906\n",
            "Epoch 25/50\n",
            "391/391 - 44s - loss: 0.5517 - accuracy: 0.7957\n",
            "Epoch 26/50\n",
            "391/391 - 44s - loss: 0.5494 - accuracy: 0.7970\n",
            "Epoch 27/50\n",
            "391/391 - 43s - loss: 0.5447 - accuracy: 0.8005\n",
            "Epoch 28/50\n",
            "391/391 - 44s - loss: 0.5386 - accuracy: 0.8009\n",
            "Epoch 29/50\n",
            "391/391 - 43s - loss: 0.5338 - accuracy: 0.8027\n",
            "Epoch 30/50\n",
            "391/391 - 43s - loss: 0.5326 - accuracy: 0.8024\n",
            "Epoch 31/50\n",
            "391/391 - 43s - loss: 0.5254 - accuracy: 0.8056\n",
            "Epoch 32/50\n",
            "391/391 - 43s - loss: 0.5236 - accuracy: 0.8069\n",
            "Epoch 33/50\n",
            "391/391 - 44s - loss: 0.5241 - accuracy: 0.8074\n",
            "Epoch 34/50\n",
            "391/391 - 43s - loss: 0.5194 - accuracy: 0.8090\n",
            "Epoch 35/50\n",
            "391/391 - 44s - loss: 0.5196 - accuracy: 0.8093\n",
            "Epoch 36/50\n",
            "391/391 - 43s - loss: 0.5155 - accuracy: 0.8073\n",
            "Epoch 37/50\n",
            "391/391 - 43s - loss: 0.5086 - accuracy: 0.8121\n",
            "Epoch 38/50\n",
            "391/391 - 43s - loss: 0.5023 - accuracy: 0.8143\n",
            "Epoch 39/50\n",
            "391/391 - 43s - loss: 0.5151 - accuracy: 0.8105\n",
            "Epoch 40/50\n",
            "391/391 - 43s - loss: 0.5032 - accuracy: 0.8134\n",
            "Epoch 41/50\n",
            "391/391 - 44s - loss: 0.5035 - accuracy: 0.8165\n",
            "Epoch 42/50\n",
            "391/391 - 44s - loss: 0.5011 - accuracy: 0.8170\n",
            "Epoch 43/50\n",
            "391/391 - 44s - loss: 0.5053 - accuracy: 0.8144\n",
            "Epoch 44/50\n",
            "391/391 - 43s - loss: 0.5020 - accuracy: 0.8133\n",
            "Epoch 45/50\n",
            "391/391 - 43s - loss: 0.4986 - accuracy: 0.8153\n",
            "Epoch 46/50\n",
            "391/391 - 43s - loss: 0.4949 - accuracy: 0.8166\n",
            "Epoch 47/50\n",
            "391/391 - 43s - loss: 0.4952 - accuracy: 0.8169\n",
            "Epoch 48/50\n",
            "391/391 - 43s - loss: 0.4907 - accuracy: 0.8188\n",
            "Epoch 49/50\n",
            "391/391 - 44s - loss: 0.4933 - accuracy: 0.8187\n",
            "Epoch 50/50\n",
            "391/391 - 43s - loss: 0.4940 - accuracy: 0.8205\n"
          ]
        }
      ]
    },
    {
      "cell_type": "code",
      "metadata": {
        "colab": {
          "base_uri": "https://localhost:8080/"
        },
        "id": "PcCLkPVo_R6a",
        "outputId": "58e553ce-fad0-47f4-fcaf-a5d9ad7847a3"
      },
      "source": [
        "path_to_save = \"/content/drive/My Drive/MAIS Assignment 4\"\n",
        "model.save(path_to_save)"
      ],
      "execution_count": null,
      "outputs": [
        {
          "output_type": "stream",
          "name": "stdout",
          "text": [
            "INFO:tensorflow:Assets written to: /content/drive/My Drive/MAIS Assignment 4/assets\n"
          ]
        }
      ]
    },
    {
      "cell_type": "code",
      "metadata": {
        "id": "i0qmZUeJKljr"
      },
      "source": [
        "model = keras.models.load_model(\"/content/drive/My Drive/MAIS Assignment 4\")"
      ],
      "execution_count": null,
      "outputs": []
    },
    {
      "cell_type": "code",
      "metadata": {
        "colab": {
          "base_uri": "https://localhost:8080/"
        },
        "id": "zzI5rU7T1MNp",
        "outputId": "57414c08-dfe0-411b-cb01-a5bb284cc0cc"
      },
      "source": [
        "test_label = model.predict(test_images)\n",
        "\n",
        "test_label = argmax(test_label, axis=1) # convert back from categorical\n",
        "\n",
        "# get the test labels in csv file\n",
        "df_test = pd.read_csv('sample_submission.csv')\n",
        "df_test['label'] = test_label\n",
        "df_test.to_csv('submission.csv', index=False)"
      ],
      "execution_count": null,
      "outputs": [
        {
          "output_type": "stream",
          "name": "stdout",
          "text": [
            "[[3.4837621e-19 6.4464693e-22 1.9336706e-21 ... 1.9086020e-04\n",
            "  5.1479897e-15 9.9980861e-01]\n",
            " [1.6752900e-07 4.4689500e-08 9.5387065e-10 ... 6.5954024e-04\n",
            "  2.2521454e-06 6.2345038e-03]\n",
            " [8.0664661e-03 1.4558442e-04 6.4854312e-01 ... 4.0188075e-09\n",
            "  8.9923507e-03 4.8099378e-09]\n",
            " ...\n",
            " [6.4860156e-04 9.3846029e-04 5.6473901e-03 ... 6.5283928e-12\n",
            "  9.2405880e-06 3.8930245e-10]\n",
            " [1.4034176e-02 3.8066620e-04 6.3680806e-03 ... 7.9367728e-06\n",
            "  9.5308930e-01 2.6319763e-05]\n",
            " [1.7113509e-04 6.3307759e-08 3.8680334e-02 ... 2.2132899e-18\n",
            "  1.8307775e-05 7.4732201e-19]]\n",
            "tf.Tensor([9 5 2 ... 3 8 6], shape=(20000,), dtype=int64)\n"
          ]
        }
      ]
    }
  ]
}